{
 "cells": [
  {
   "cell_type": "code",
   "execution_count": 6,
   "id": "33c299b8-ceea-4778-9c81-e67632b941f3",
   "metadata": {},
   "outputs": [],
   "source": [
    "# Karylle Marjorie O. Gealan"
   ]
  },
  {
   "cell_type": "code",
   "execution_count": 8,
   "id": "c5103590-fd1f-4851-8e1b-bdd534d60164",
   "metadata": {},
   "outputs": [],
   "source": [
    "import numpy as np "
   ]
  },
  {
   "cell_type": "code",
   "execution_count": 10,
   "id": "556b4e3d-79ef-4d7b-b48d-e25d56b2b934",
   "metadata": {},
   "outputs": [
    {
     "data": {
      "text/plain": [
       "array([[0.90413374, 0.31834373, 0.31290898, 0.33735089, 0.01996278],\n",
       "       [0.35863932, 0.95753481, 0.90471708, 0.04734184, 0.35437262],\n",
       "       [0.51882232, 0.86316801, 0.83658893, 0.49341418, 0.87371772],\n",
       "       [0.89968898, 0.0467454 , 0.79050789, 0.80108051, 0.79612984],\n",
       "       [0.96659217, 0.67607794, 0.16086869, 0.33342167, 0.45943993]])"
      ]
     },
     "execution_count": 10,
     "metadata": {},
     "output_type": "execute_result"
    }
   ],
   "source": [
    "X=np.random.random((5,5)) # random 5x5 numbers\n",
    "X_normalized=(X-np.mean(X))/np.std(X) # the formula\n",
    "np.save(\"X_normalized.npy\",X_normalized) #saving the file\n",
    "X"
   ]
  },
  {
   "cell_type": "code",
   "execution_count": 12,
   "id": "e41d9dcb-819f-4414-9152-e76ffc0d4b31",
   "metadata": {},
   "outputs": [
    {
     "data": {
      "text/plain": [
       "array([[ 1.10205147, -0.78078742, -0.79825574, -0.71969485, -1.73983974],\n",
       "       [-0.65126983,  1.27369252,  1.10392645, -1.65183831, -0.66498381],\n",
       "       [-0.13641165,  0.97037994,  0.88494981, -0.21807817,  1.00428869],\n",
       "       [ 1.08776517, -1.65375537,  0.73683668,  0.77081909,  0.75490669],\n",
       "       [ 1.30280458,  0.36903738, -1.28694173, -0.7323241 , -0.32727778]])"
      ]
     },
     "execution_count": 12,
     "metadata": {},
     "output_type": "execute_result"
    }
   ],
   "source": [
    "X_normalized"
   ]
  },
  {
   "cell_type": "code",
   "execution_count": 14,
   "id": "ada4a6aa-ce2a-497a-9d08-76b8087a1dc3",
   "metadata": {},
   "outputs": [
    {
     "data": {
      "text/plain": [
       "<function save at 0x106d897b0>"
      ]
     },
     "execution_count": 14,
     "metadata": {},
     "output_type": "execute_result"
    }
   ],
   "source": [
    "np.save"
   ]
  },
  {
   "cell_type": "code",
   "execution_count": null,
   "id": "51da1184-23be-46e9-9745-cee21eff7c00",
   "metadata": {},
   "outputs": [],
   "source": []
  },
  {
   "cell_type": "code",
   "execution_count": 17,
   "id": "6aa393fc-f432-4ff4-a106-5f19b785db73",
   "metadata": {},
   "outputs": [],
   "source": [
    "import numpy as np"
   ]
  },
  {
   "cell_type": "code",
   "execution_count": 19,
   "id": "08b486b5-754b-4484-a336-d5dde1d45ed2",
   "metadata": {},
   "outputs": [
    {
     "data": {
      "text/plain": [
       "array([[    1,     4,     9,    16,    25,    36,    49,    64,    81,\n",
       "          100],\n",
       "       [  121,   144,   169,   196,   225,   256,   289,   324,   361,\n",
       "          400],\n",
       "       [  441,   484,   529,   576,   625,   676,   729,   784,   841,\n",
       "          900],\n",
       "       [  961,  1024,  1089,  1156,  1225,  1296,  1369,  1444,  1521,\n",
       "         1600],\n",
       "       [ 1681,  1764,  1849,  1936,  2025,  2116,  2209,  2304,  2401,\n",
       "         2500],\n",
       "       [ 2601,  2704,  2809,  2916,  3025,  3136,  3249,  3364,  3481,\n",
       "         3600],\n",
       "       [ 3721,  3844,  3969,  4096,  4225,  4356,  4489,  4624,  4761,\n",
       "         4900],\n",
       "       [ 5041,  5184,  5329,  5476,  5625,  5776,  5929,  6084,  6241,\n",
       "         6400],\n",
       "       [ 6561,  6724,  6889,  7056,  7225,  7396,  7569,  7744,  7921,\n",
       "         8100],\n",
       "       [ 8281,  8464,  8649,  8836,  9025,  9216,  9409,  9604,  9801,\n",
       "        10000]])"
      ]
     },
     "execution_count": 19,
     "metadata": {},
     "output_type": "execute_result"
    }
   ],
   "source": [
    "A=array=np.arange(1,101).reshape(10,10)**2 # 10x10 array of squares of integers from 1 to 100\n",
    "A"
   ]
  },
  {
   "cell_type": "code",
   "execution_count": 21,
   "id": "209ddb6b-d6da-49fa-8d5e-8a5c19ecbf73",
   "metadata": {},
   "outputs": [
    {
     "data": {
      "text/plain": [
       "array([   9,   36,   81,  144,  225,  324,  441,  576,  729,  900, 1089,\n",
       "       1296, 1521, 1764, 2025, 2304, 2601, 2916, 3249, 3600, 3969, 4356,\n",
       "       4761, 5184, 5625, 6084, 6561, 7056, 7569, 8100, 8649, 9216, 9801])"
      ]
     },
     "execution_count": 21,
     "metadata": {},
     "output_type": "execute_result"
    }
   ],
   "source": [
    "div_by_3=A[A%3==0] # elements divisible by 3\n",
    "div_by_3"
   ]
  },
  {
   "cell_type": "code",
   "execution_count": 27,
   "id": "a7f985e5-49b9-449f-b61a-b31f586e09ff",
   "metadata": {},
   "outputs": [],
   "source": [
    "np.save(\"div_by_3\",div_by_3) #saving the file "
   ]
  },
  {
   "cell_type": "code",
   "execution_count": 29,
   "id": "dd2c0bca-6801-4faa-a56f-6f2ea1904f67",
   "metadata": {},
   "outputs": [
    {
     "data": {
      "text/plain": [
       "<function save at 0x106d897b0>"
      ]
     },
     "execution_count": 29,
     "metadata": {},
     "output_type": "execute_result"
    }
   ],
   "source": [
    "np.save"
   ]
  },
  {
   "cell_type": "code",
   "execution_count": null,
   "id": "6b8af5ab-2f48-4d19-95d9-94f85a282780",
   "metadata": {},
   "outputs": [],
   "source": []
  }
 ],
 "metadata": {
  "kernelspec": {
   "display_name": "Python 3 (ipykernel)",
   "language": "python",
   "name": "python3"
  },
  "language_info": {
   "codemirror_mode": {
    "name": "ipython",
    "version": 3
   },
   "file_extension": ".py",
   "mimetype": "text/x-python",
   "name": "python",
   "nbconvert_exporter": "python",
   "pygments_lexer": "ipython3",
   "version": "3.12.4"
  }
 },
 "nbformat": 4,
 "nbformat_minor": 5
}
