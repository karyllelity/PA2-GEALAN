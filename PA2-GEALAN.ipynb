{
 "cells": [
  {
   "cell_type": "markdown",
   "id": "2b107939-7718-4c0b-b889-4b407bf8ece2",
   "metadata": {},
   "source": [
    "# EXPERIMENT 2: NUMERICAL PYTHON (NUMPY)\n",
    "### GEALAN, Karylle Marjorie O. "
   ]
  },
  {
   "cell_type": "markdown",
   "id": "5a497240-23d5-414f-8f95-a0667f5d1fc7",
   "metadata": {},
   "source": [
    "##### NORMALIZATION PROBLEM 1: Normalization is one of the most basic preprocessing techniques in data analytics. This involves centering and scaling process. Centering means subtracting the data from the mean and scaling means dividing with its standard deviation. In this problem, create a random 5 x 5 ndarray and store it to variable X. Normalize X.\n",
    "\n"
   ]
  },
  {
   "cell_type": "code",
   "execution_count": 3,
   "id": "53fd1c88-24ed-402a-bb3f-cfa117a9ae17",
   "metadata": {},
   "outputs": [],
   "source": [
    "import numpy as np"
   ]
  },
  {
   "cell_type": "code",
   "execution_count": 5,
   "id": "697b69f6-920f-4ae9-9fa1-6bc80d90d276",
   "metadata": {},
   "outputs": [
    {
     "data": {
      "text/plain": [
       "array([[-0.16233822, -1.09781578,  1.41679339,  0.25181494,  0.70546758],\n",
       "       [-1.1223605 ,  0.66650693, -0.62006641,  0.91233435,  1.01330892],\n",
       "       [-0.86725328, -1.5176277 , -0.58221287,  0.69075864, -0.60065356],\n",
       "       [ 0.22946354,  0.41537159, -1.31471394,  1.3016124 ,  1.81409884],\n",
       "       [-0.76924736, -1.47452296, -1.06602905,  0.34108647,  1.43622403]])"
      ]
     },
     "execution_count": 5,
     "metadata": {},
     "output_type": "execute_result"
    }
   ],
   "source": [
    "X=np.random.random((5,5)) # random 5x5 numbers\n",
    "X_normalized=(X-np.mean(X))/np.std(X) # the formula\n",
    "X_normalized"
   ]
  },
  {
   "cell_type": "code",
   "execution_count": 7,
   "id": "1031f55d-b514-4f17-a98b-5a0159512c0b",
   "metadata": {},
   "outputs": [
    {
     "data": {
      "text/plain": [
       "<function save at 0x108575670>"
      ]
     },
     "execution_count": 7,
     "metadata": {},
     "output_type": "execute_result"
    }
   ],
   "source": [
    "np.save(\"X_normalized.npy\",X_normalized) #saving the file \n",
    "np.save"
   ]
  },
  {
   "cell_type": "markdown",
   "id": "00c3dfb1-93ff-453c-abe1-5b024ee285b5",
   "metadata": {},
   "source": [
    "#### DIVISIBLE BY 3 PROBLEM: Create the following 10 x 10 ndarray. Which are the squares of the first 100 positive integers."
   ]
  },
  {
   "cell_type": "code",
   "execution_count": 10,
   "id": "bfc5b21c-bf21-4744-a2d6-01d3a77e75c2",
   "metadata": {},
   "outputs": [
    {
     "data": {
      "text/plain": [
       "array([[    1,     4,     9,    16,    25,    36,    49,    64,    81,\n",
       "          100],\n",
       "       [  121,   144,   169,   196,   225,   256,   289,   324,   361,\n",
       "          400],\n",
       "       [  441,   484,   529,   576,   625,   676,   729,   784,   841,\n",
       "          900],\n",
       "       [  961,  1024,  1089,  1156,  1225,  1296,  1369,  1444,  1521,\n",
       "         1600],\n",
       "       [ 1681,  1764,  1849,  1936,  2025,  2116,  2209,  2304,  2401,\n",
       "         2500],\n",
       "       [ 2601,  2704,  2809,  2916,  3025,  3136,  3249,  3364,  3481,\n",
       "         3600],\n",
       "       [ 3721,  3844,  3969,  4096,  4225,  4356,  4489,  4624,  4761,\n",
       "         4900],\n",
       "       [ 5041,  5184,  5329,  5476,  5625,  5776,  5929,  6084,  6241,\n",
       "         6400],\n",
       "       [ 6561,  6724,  6889,  7056,  7225,  7396,  7569,  7744,  7921,\n",
       "         8100],\n",
       "       [ 8281,  8464,  8649,  8836,  9025,  9216,  9409,  9604,  9801,\n",
       "        10000]])"
      ]
     },
     "execution_count": 10,
     "metadata": {},
     "output_type": "execute_result"
    }
   ],
   "source": [
    "A=array=np.arange(1,101).reshape(10,10)**2 # 10x10 array of squares of integers from 1 to 100\n",
    "A"
   ]
  },
  {
   "cell_type": "code",
   "execution_count": 12,
   "id": "1ce07b03-27fd-4678-bcae-58ef9b7a3acb",
   "metadata": {},
   "outputs": [
    {
     "data": {
      "text/plain": [
       "array([   9,   36,   81,  144,  225,  324,  441,  576,  729,  900, 1089,\n",
       "       1296, 1521, 1764, 2025, 2304, 2601, 2916, 3249, 3600, 3969, 4356,\n",
       "       4761, 5184, 5625, 6084, 6561, 7056, 7569, 8100, 8649, 9216, 9801])"
      ]
     },
     "execution_count": 12,
     "metadata": {},
     "output_type": "execute_result"
    }
   ],
   "source": [
    "div_by_3=A[A%3==0] #elements divisible by 3\n",
    "div_by_3"
   ]
  },
  {
   "cell_type": "code",
   "execution_count": 14,
   "id": "a2a8f8e8-5f61-4aeb-9e69-bdf9d9ad8b07",
   "metadata": {},
   "outputs": [
    {
     "data": {
      "text/plain": [
       "<function save at 0x108575670>"
      ]
     },
     "execution_count": 14,
     "metadata": {},
     "output_type": "execute_result"
    }
   ],
   "source": [
    "np.save(\"div_by_3\",div_by_3) #saving the file \n",
    "np.save"
   ]
  }
 ],
 "metadata": {
  "kernelspec": {
   "display_name": "Python 3 (ipykernel)",
   "language": "python",
   "name": "python3"
  },
  "language_info": {
   "codemirror_mode": {
    "name": "ipython",
    "version": 3
   },
   "file_extension": ".py",
   "mimetype": "text/x-python",
   "name": "python",
   "nbconvert_exporter": "python",
   "pygments_lexer": "ipython3",
   "version": "3.12.4"
  }
 },
 "nbformat": 4,
 "nbformat_minor": 5
}
